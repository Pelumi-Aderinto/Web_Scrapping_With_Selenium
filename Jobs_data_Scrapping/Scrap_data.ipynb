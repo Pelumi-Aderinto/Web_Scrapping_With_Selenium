{
 "cells": [
  {
   "cell_type": "code",
   "execution_count": 2,
   "metadata": {},
   "outputs": [],
   "source": [
    "from selenium import webdriver\n",
    "import time\n",
    "from selenium.webdriver.support.select import Select\n",
    "from selenium.webdriver.common.by import By"
   ]
  },
  {
   "cell_type": "code",
   "execution_count": 9,
   "metadata": {},
   "outputs": [],
   "source": [
    "with open('job_scraping_multipe_pages.csv', 'w') as file:\n",
    "    file.write(\"Job_title; Company; Salary; Location; Job_description \\n\")\n",
    "    \n",
    "\n",
    "driver=webdriver.Chrome()\n",
    "\n",
    "# driver.get('https://www.jobsite.co.uk/')\n",
    "\n",
    "driver.get('https://www.jobsite.co.uk/jobs/data-engineer/in-united-kingdom?radius=30')\n",
    "\n",
    "driver.maximize_window()\n",
    "time.sleep(5)\n",
    "\n",
    "# //*[@id=\"ccmgt_explicit_accept\"]/span\n",
    "# //*[@id=\"ccmgt_explicit_accept\"]/span\n",
    "\n",
    "cookie= driver.find_element(By.XPATH, '//*[@id=\"ccmgt_explicit_accept\"]/span')\n",
    "try:\n",
    "    cookie.click()\n",
    "except:\n",
    "    pass \n",
    "\n",
    "time.sleep(5)\n",
    "# job_title=driver.find_element(By.ID, 'keywords')\n",
    "# job_title.click()\n",
    "# job_title.send_keys('Software Engineer')\n",
    "# time.sleep(1)\n",
    "\n",
    "# location=driver.find_element(By.ID, 'location')\n",
    "# location.click()\n",
    "# location.send_keys('Manchester')\n",
    "# time.sleep(1)\n",
    "\n",
    "# dropdown=driver.find_element(By.ID, 'Radius')\n",
    "# radius=Select(dropdown)\n",
    "# radius.select_by_visible_text('30 miles')\n",
    "# time.sleep(1)\n",
    "\n",
    "# search=driver.find_element(By.ID, 'search-button')\n",
    "# search.click()\n",
    "# time.sleep(50)\n",
    "\n",
    "for k in range(5):\n",
    "    titles=driver.find_elements(By.XPATH, '//div[@class=\"resultlist-dpthza\"]')\n",
    "    company=driver.find_elements(By.XPATH, '//div[@class=\"resultlist-1mjyynf\"]')\n",
    "    salary=driver.find_elements(By.XPATH, '//div[@class=\"resultlist-noiqwp\"]/span')\n",
    "    location=driver.find_elements(By.XPATH, '//div[@class=\"resultlist-5dwl9c\"]')\n",
    "    job_details=driver.find_elements(By.XPATH, '//div[@class=\"resultlist-1n63zbq\"]')\n",
    "\n",
    "    with open('job_scraping_multipe_pages.csv', 'a') as file:\n",
    "        for i in range(len(titles)):\n",
    "            file.write(titles[i].text + \";\" + company[i].text + \";\" + salary[i].text + \";\" + location[i].text + \";\"+\n",
    "                      job_details[i].text + \"\\n\")\n",
    "\n",
    "        next=driver.find_element(By.XPATH, '//a[@aria-label=\"Next\"]')\n",
    "        next.click()\n",
    "        time.sleep(7)\n",
    "    file.close()\n",
    "driver.close()"
   ]
  },
  {
   "cell_type": "code",
   "execution_count": 16,
   "metadata": {},
   "outputs": [],
   "source": [
    "\n",
    "driver=webdriver.Chrome()\n",
    "\n",
    "driver.get('https://www.jobsite.co.uk/jobs/data-engineer/in-united-kingdom?radius=30')\n",
    "\n",
    "driver.maximize_window()\n",
    "time.sleep(1)"
   ]
  },
  {
   "cell_type": "code",
   "execution_count": null,
   "metadata": {},
   "outputs": [],
   "source": []
  }
 ],
 "metadata": {
  "kernelspec": {
   "display_name": "Python 3",
   "language": "python",
   "name": "python3"
  },
  "language_info": {
   "codemirror_mode": {
    "name": "ipython",
    "version": 3
   },
   "file_extension": ".py",
   "mimetype": "text/x-python",
   "name": "python",
   "nbconvert_exporter": "python",
   "pygments_lexer": "ipython3",
   "version": "3.10.9 (tags/v3.10.9:1dd9be6, Dec  6 2022, 20:01:21) [MSC v.1934 64 bit (AMD64)]"
  },
  "orig_nbformat": 4,
  "vscode": {
   "interpreter": {
    "hash": "66eba28a75a64fbe1a9b9c30d27f7c856726c51cbbef86297708eae4ce175db0"
   }
  }
 },
 "nbformat": 4,
 "nbformat_minor": 2
}
